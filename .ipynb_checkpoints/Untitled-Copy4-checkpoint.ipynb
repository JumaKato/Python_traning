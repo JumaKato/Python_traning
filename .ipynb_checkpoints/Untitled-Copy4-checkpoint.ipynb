{
 "cells": [
  {
   "cell_type": "markdown",
   "metadata": {},
   "source": [
    "#読み込んだ気温データのcsvから線形予測をおこない、その日の最高気温と最低気温を線形予測によって推定するプログラム\n",
    "ver.1としてcsvは直接読み込みとする。"
   ]
  },
  {
   "cell_type": "code",
   "execution_count": 1,
   "metadata": {},
   "outputs": [],
   "source": [
    "import numpy as np\n",
    "import pandas as pd\n",
    "import scipy\n",
    "import csv\n",
    "#import pivottablejs"
   ]
  },
  {
   "cell_type": "code",
   "execution_count": 2,
   "metadata": {},
   "outputs": [],
   "source": [
    "    # shift-jis のCSVファイル\n",
    "df= pd.read_csv(\"data (1).csv\",encoding=\"SHIFT-JIS\",header=2)"
   ]
  },
  {
   "cell_type": "code",
   "execution_count": 3,
   "metadata": {},
   "outputs": [],
   "source": [
    "df = df.drop(0)"
   ]
  },
  {
   "cell_type": "code",
   "execution_count": 4,
   "metadata": {},
   "outputs": [
    {
     "data": {
      "text/html": [
       "<div>\n",
       "<style scoped>\n",
       "    .dataframe tbody tr th:only-of-type {\n",
       "        vertical-align: middle;\n",
       "    }\n",
       "\n",
       "    .dataframe tbody tr th {\n",
       "        vertical-align: top;\n",
       "    }\n",
       "\n",
       "    .dataframe thead th {\n",
       "        text-align: right;\n",
       "    }\n",
       "</style>\n",
       "<table border=\"1\" class=\"dataframe\">\n",
       "  <thead>\n",
       "    <tr style=\"text-align: right;\">\n",
       "      <th></th>\n",
       "      <th>年月日時</th>\n",
       "      <th>気温(℃)</th>\n",
       "      <th>気温(℃).1</th>\n",
       "      <th>気温(℃).2</th>\n",
       "    </tr>\n",
       "  </thead>\n",
       "  <tbody>\n",
       "    <tr>\n",
       "      <td>1</td>\n",
       "      <td>2019/12/15 1:00:00</td>\n",
       "      <td>8.0</td>\n",
       "      <td>8</td>\n",
       "      <td>1</td>\n",
       "    </tr>\n",
       "    <tr>\n",
       "      <td>2</td>\n",
       "      <td>2019/12/15 2:00:00</td>\n",
       "      <td>7.5</td>\n",
       "      <td>8</td>\n",
       "      <td>1</td>\n",
       "    </tr>\n",
       "    <tr>\n",
       "      <td>3</td>\n",
       "      <td>2019/12/15 3:00:00</td>\n",
       "      <td>6.9</td>\n",
       "      <td>8</td>\n",
       "      <td>1</td>\n",
       "    </tr>\n",
       "    <tr>\n",
       "      <td>4</td>\n",
       "      <td>2019/12/15 4:00:00</td>\n",
       "      <td>6.4</td>\n",
       "      <td>8</td>\n",
       "      <td>1</td>\n",
       "    </tr>\n",
       "    <tr>\n",
       "      <td>5</td>\n",
       "      <td>2019/12/15 5:00:00</td>\n",
       "      <td>6.0</td>\n",
       "      <td>8</td>\n",
       "      <td>1</td>\n",
       "    </tr>\n",
       "    <tr>\n",
       "      <td>6</td>\n",
       "      <td>2019/12/15 6:00:00</td>\n",
       "      <td>5.9</td>\n",
       "      <td>8</td>\n",
       "      <td>1</td>\n",
       "    </tr>\n",
       "    <tr>\n",
       "      <td>7</td>\n",
       "      <td>2019/12/15 7:00:00</td>\n",
       "      <td>5.4</td>\n",
       "      <td>8</td>\n",
       "      <td>1</td>\n",
       "    </tr>\n",
       "    <tr>\n",
       "      <td>8</td>\n",
       "      <td>2019/12/15 8:00:00</td>\n",
       "      <td>5.4</td>\n",
       "      <td>8</td>\n",
       "      <td>1</td>\n",
       "    </tr>\n",
       "    <tr>\n",
       "      <td>9</td>\n",
       "      <td>2019/12/15 9:00:00</td>\n",
       "      <td>6.2</td>\n",
       "      <td>8</td>\n",
       "      <td>1</td>\n",
       "    </tr>\n",
       "    <tr>\n",
       "      <td>10</td>\n",
       "      <td>2019/12/15 10:00:00</td>\n",
       "      <td>7.6</td>\n",
       "      <td>8</td>\n",
       "      <td>1</td>\n",
       "    </tr>\n",
       "    <tr>\n",
       "      <td>11</td>\n",
       "      <td>2019/12/15 11:00:00</td>\n",
       "      <td>9.1</td>\n",
       "      <td>8</td>\n",
       "      <td>1</td>\n",
       "    </tr>\n",
       "    <tr>\n",
       "      <td>12</td>\n",
       "      <td>2019/12/15 12:00:00</td>\n",
       "      <td>10.4</td>\n",
       "      <td>8</td>\n",
       "      <td>1</td>\n",
       "    </tr>\n",
       "    <tr>\n",
       "      <td>13</td>\n",
       "      <td>2019/12/15 13:00:00</td>\n",
       "      <td>11.4</td>\n",
       "      <td>8</td>\n",
       "      <td>1</td>\n",
       "    </tr>\n",
       "    <tr>\n",
       "      <td>14</td>\n",
       "      <td>2019/12/15 14:00:00</td>\n",
       "      <td>11.9</td>\n",
       "      <td>8</td>\n",
       "      <td>1</td>\n",
       "    </tr>\n",
       "    <tr>\n",
       "      <td>15</td>\n",
       "      <td>2019/12/15 15:00:00</td>\n",
       "      <td>11.7</td>\n",
       "      <td>8</td>\n",
       "      <td>1</td>\n",
       "    </tr>\n",
       "    <tr>\n",
       "      <td>16</td>\n",
       "      <td>2019/12/15 16:00:00</td>\n",
       "      <td>11.3</td>\n",
       "      <td>8</td>\n",
       "      <td>1</td>\n",
       "    </tr>\n",
       "    <tr>\n",
       "      <td>17</td>\n",
       "      <td>2019/12/15 17:00:00</td>\n",
       "      <td>9.9</td>\n",
       "      <td>8</td>\n",
       "      <td>1</td>\n",
       "    </tr>\n",
       "    <tr>\n",
       "      <td>18</td>\n",
       "      <td>2019/12/15 18:00:00</td>\n",
       "      <td>8.4</td>\n",
       "      <td>8</td>\n",
       "      <td>1</td>\n",
       "    </tr>\n",
       "    <tr>\n",
       "      <td>19</td>\n",
       "      <td>2019/12/15 19:00:00</td>\n",
       "      <td>7.7</td>\n",
       "      <td>8</td>\n",
       "      <td>1</td>\n",
       "    </tr>\n",
       "    <tr>\n",
       "      <td>20</td>\n",
       "      <td>2019/12/15 20:00:00</td>\n",
       "      <td>7.5</td>\n",
       "      <td>8</td>\n",
       "      <td>1</td>\n",
       "    </tr>\n",
       "    <tr>\n",
       "      <td>21</td>\n",
       "      <td>2019/12/15 21:00:00</td>\n",
       "      <td>6.5</td>\n",
       "      <td>8</td>\n",
       "      <td>1</td>\n",
       "    </tr>\n",
       "    <tr>\n",
       "      <td>22</td>\n",
       "      <td>2019/12/15 22:00:00</td>\n",
       "      <td>6.3</td>\n",
       "      <td>8</td>\n",
       "      <td>1</td>\n",
       "    </tr>\n",
       "    <tr>\n",
       "      <td>23</td>\n",
       "      <td>2019/12/15 23:00:00</td>\n",
       "      <td>6.0</td>\n",
       "      <td>8</td>\n",
       "      <td>1</td>\n",
       "    </tr>\n",
       "    <tr>\n",
       "      <td>24</td>\n",
       "      <td>2019/12/16 00:00:00</td>\n",
       "      <td>5.6</td>\n",
       "      <td>8</td>\n",
       "      <td>1</td>\n",
       "    </tr>\n",
       "  </tbody>\n",
       "</table>\n",
       "</div>"
      ],
      "text/plain": [
       "                   年月日時  気温(℃) 気温(℃).1 気温(℃).2\n",
       "1    2019/12/15 1:00:00    8.0       8       1\n",
       "2    2019/12/15 2:00:00    7.5       8       1\n",
       "3    2019/12/15 3:00:00    6.9       8       1\n",
       "4    2019/12/15 4:00:00    6.4       8       1\n",
       "5    2019/12/15 5:00:00    6.0       8       1\n",
       "6    2019/12/15 6:00:00    5.9       8       1\n",
       "7    2019/12/15 7:00:00    5.4       8       1\n",
       "8    2019/12/15 8:00:00    5.4       8       1\n",
       "9    2019/12/15 9:00:00    6.2       8       1\n",
       "10  2019/12/15 10:00:00    7.6       8       1\n",
       "11  2019/12/15 11:00:00    9.1       8       1\n",
       "12  2019/12/15 12:00:00   10.4       8       1\n",
       "13  2019/12/15 13:00:00   11.4       8       1\n",
       "14  2019/12/15 14:00:00   11.9       8       1\n",
       "15  2019/12/15 15:00:00   11.7       8       1\n",
       "16  2019/12/15 16:00:00   11.3       8       1\n",
       "17  2019/12/15 17:00:00    9.9       8       1\n",
       "18  2019/12/15 18:00:00    8.4       8       1\n",
       "19  2019/12/15 19:00:00    7.7       8       1\n",
       "20  2019/12/15 20:00:00    7.5       8       1\n",
       "21  2019/12/15 21:00:00    6.5       8       1\n",
       "22  2019/12/15 22:00:00    6.3       8       1\n",
       "23  2019/12/15 23:00:00    6.0       8       1\n",
       "24  2019/12/16 00:00:00    5.6       8       1"
      ]
     },
     "execution_count": 4,
     "metadata": {},
     "output_type": "execute_result"
    }
   ],
   "source": [
    "df"
   ]
  },
  {
   "cell_type": "markdown",
   "metadata": {},
   "source": [
    "ここで気温データのみの抽出が完了\n",
    "\n",
    "操作としては\n",
    "・csvの3行目をヘッダとして、csvファイルを読み込みdfに格納\n",
    "・dfの1行目（旧ヘッダとして書き込まれる行の4行目）を削除\n",
    "・2列目のみを抽出"
   ]
  },
  {
   "cell_type": "code",
   "execution_count": 5,
   "metadata": {},
   "outputs": [],
   "source": [
    "df = df['気温(℃)']"
   ]
  },
  {
   "cell_type": "code",
   "execution_count": 6,
   "metadata": {},
   "outputs": [
    {
     "data": {
      "text/plain": [
       "1      8.0\n",
       "2      7.5\n",
       "3      6.9\n",
       "4      6.4\n",
       "5      6.0\n",
       "6      5.9\n",
       "7      5.4\n",
       "8      5.4\n",
       "9      6.2\n",
       "10     7.6\n",
       "11     9.1\n",
       "12    10.4\n",
       "13    11.4\n",
       "14    11.9\n",
       "15    11.7\n",
       "16    11.3\n",
       "17     9.9\n",
       "18     8.4\n",
       "19     7.7\n",
       "20     7.5\n",
       "21     6.5\n",
       "22     6.3\n",
       "23     6.0\n",
       "24     5.6\n",
       "Name: 気温(℃), dtype: float64"
      ]
     },
     "execution_count": 6,
     "metadata": {},
     "output_type": "execute_result"
    }
   ],
   "source": [
    "df"
   ]
  },
  {
   "cell_type": "code",
   "execution_count": 7,
   "metadata": {},
   "outputs": [],
   "source": [
    "df = df[0:24]"
   ]
  },
  {
   "cell_type": "code",
   "execution_count": 8,
   "metadata": {},
   "outputs": [],
   "source": [
    "## 図示のために使うもの\n",
    "import seaborn as sns\n",
    "import matplotlib.pyplot as plt"
   ]
  },
  {
   "cell_type": "code",
   "execution_count": 9,
   "metadata": {},
   "outputs": [],
   "source": [
    "list_x = list(range(0,24,1))\n",
    "list_y = []"
   ]
  },
  {
   "cell_type": "code",
   "execution_count": 10,
   "metadata": {},
   "outputs": [
    {
     "name": "stdout",
     "output_type": "stream",
     "text": [
      "8.0 <class 'float'>\n"
     ]
    }
   ],
   "source": [
    "list_y = df.values.tolist()\n",
    "print(list_y[0], type(list_y[0]))"
   ]
  },
  {
   "cell_type": "code",
   "execution_count": 11,
   "metadata": {},
   "outputs": [],
   "source": [
    "def func(x, a, b, c,d,e,f,g,h,i,j,k,l,m):\n",
    "    return a + b*x + c*x**2 + d*x**3 + e*x**4 + f*x**5+g*x**6 + h*x**7 + i*x**8 + j*x**9 + k*x**10 + l*x**11 + m*x**12"
   ]
  },
  {
   "cell_type": "code",
   "execution_count": 12,
   "metadata": {},
   "outputs": [
    {
     "name": "stdout",
     "output_type": "stream",
     "text": [
      "paramater =\n",
      "[ 7.99040982e+00  1.71302585e+00 -4.32900511e+00  3.13155195e+00\n",
      " -1.17537734e+00  2.63526793e-01 -3.79977573e-02  3.67022929e-03\n",
      " -2.40735372e-04  1.05931495e-05 -2.99254273e-07  4.90023355e-09\n",
      " -3.53246690e-11]\n"
     ]
    }
   ],
   "source": [
    "paramater_optimal, covariance = scipy.optimize.curve_fit(func, list_x,list_y)\n",
    "print (\"paramater =\")\n",
    "print (paramater_optimal)"
   ]
  },
  {
   "cell_type": "code",
   "execution_count": 13,
   "metadata": {},
   "outputs": [
    {
     "data": {
      "image/png": "[encoded data removed]",
      "text/plain": [
       "<Figure size 432x288 with 1 Axes>"
      ]
     },
     "metadata": {
      "needs_background": "light"
     },
     "output_type": "display_data"
    }
   ],
   "source": [
    "#y = func(list_x,paramater_optimal[0],paramater_optimal[1],paramater_optimal[2])\n",
    "list_x2 = list(np.arange(0,24,0.1))\n",
    "y = []\n",
    "for num in list_x2:\n",
    "    y.append(paramater_optimal[12]*num**12 + paramater_optimal[11]*num**11 + paramater_optimal[10]*num**10\n",
    "             + paramater_optimal[9]*num**9 +paramater_optimal[8]*num**8 +paramater_optimal[7]*num**7 +paramater_optimal[6]*num**6 \n",
    "             +paramater_optimal[5]*num**5 +paramater_optimal[4]*num**4+paramater_optimal[3]*num**3 +paramater_optimal[2]*num**2\n",
    "             +paramater_optimal[1]*num    +paramater_optimal[0])\n",
    "    #print num\n",
    "plt.plot(list_x, list_y, 'o')\n",
    "plt.plot(list_x2, y, '-')\n",
    "plt.show()"
   ]
  },
  {
   "cell_type": "code",
   "execution_count": null,
   "metadata": {},
   "outputs": [],
   "source": []
  }
 ],
 "metadata": {
  "kernelspec": {
   "display_name": "Python 3",
   "language": "python",
   "name": "python3"
  },
  "language_info": {
   "codemirror_mode": {
    "name": "ipython",
    "version": 3
   },
   "file_extension": ".py",
   "mimetype": "text/x-python",
   "name": "python",
   "nbconvert_exporter": "python",
   "pygments_lexer": "ipython3",
   "version": "3.7.4"
  }
 },
 "nbformat": 4,
 "nbformat_minor": 2
}
